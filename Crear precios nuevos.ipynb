{
 "cells": [
  {
   "cell_type": "code",
   "execution_count": 1,
   "metadata": {
    "collapsed": true
   },
   "outputs": [],
   "source": [
    "%matplotlib inline\n",
    "import numpy as np\n",
    "import matplotlib.pyplot as plt"
   ]
  },
  {
   "cell_type": "code",
   "execution_count": 2,
   "metadata": {
    "collapsed": true
   },
   "outputs": [],
   "source": [
    "from openpyxl import load_workbook\n",
    "from openpyxl import Workbook"
   ]
  },
  {
   "cell_type": "code",
   "execution_count": 3,
   "metadata": {
    "collapsed": true
   },
   "outputs": [],
   "source": [
    "from openpyxl.styles import Color, PatternFill, Font, Border, Side"
   ]
  },
  {
   "cell_type": "markdown",
   "metadata": {},
   "source": [
    "### Paso 0: definir algunas funciones"
   ]
  },
  {
   "cell_type": "code",
   "execution_count": 15,
   "metadata": {
    "collapsed": true
   },
   "outputs": [],
   "source": [
    "def buscaproob(text):\n",
    "    prov = 'P'\n",
    "    text = text.upper()\n",
    "    for char_num in range(len(text)-1):\n",
    "        char = text[char_num]\n",
    "        if char == 'P' :\n",
    "            ii = 1\n",
    "            while char_num+ii<len(text) and text[char_num+ii].isdigit():\n",
    "                prov += text[char_num+ii]\n",
    "                ii += 1\n",
    "            if prov != 'P':\n",
    "                return prov\n",
    "    return ''\n",
    "            \n",
    "def str_to_bool(text):\n",
    "    text = text.lower()\n",
    "    if text == 'sí' or text == 'si' or text =='s':\n",
    "        return True\n",
    "    elif text == 'no' or text == 'n':\n",
    "        return False\n",
    "    else:\n",
    "        error_msg = 'Encontrado error en booleano:' + str(text)\n",
    "        raise ValueError(error_msg)"
   ]
  },
  {
   "cell_type": "markdown",
   "metadata": {},
   "source": [
    "## Paso 1: combinar los 4 excel y distribuir los datos"
   ]
  },
  {
   "cell_type": "code",
   "execution_count": 5,
   "metadata": {
    "collapsed": false
   },
   "outputs": [],
   "source": [
    "wb_1 = load_workbook(filename='Informe de precios-1.xlsx', read_only=True)\n",
    "wb_2 = load_workbook(filename='Informe de precios-2.xlsx', read_only=True)\n",
    "wb_3 = load_workbook(filename='Informe de precios-3.xlsx', read_only=True)\n",
    "wb_4 = load_workbook(filename='Informe de precios-4.xlsx', read_only=True)\n",
    "ws_1 = wb_1[wb_1.sheetnames[0]]\n",
    "ws_2 = wb_2[wb_2.sheetnames[0]]\n",
    "ws_3 = wb_3[wb_3.sheetnames[0]]\n",
    "ws_4 = wb_4[wb_4.sheetnames[0]]"
   ]
  },
  {
   "cell_type": "code",
   "execution_count": 6,
   "metadata": {
    "collapsed": true
   },
   "outputs": [],
   "source": [
    "ws_list = [ws_1, ws_2, ws_3,ws_4]"
   ]
  },
  {
   "cell_type": "code",
   "execution_count": 7,
   "metadata": {
    "collapsed": false
   },
   "outputs": [],
   "source": [
    "raw_data_matrix = []\n",
    "for doc in range(4):\n",
    "    raw_data = []\n",
    "    ws = ws_list[doc]\n",
    "    for row in ws:\n",
    "        row_current = []\n",
    "        for cell in row:\n",
    "            row_current.append(cell.value)\n",
    "        raw_data_matrix.append(row_current)\n",
    "raw_data_array = np.array(raw_data_matrix)"
   ]
  },
  {
   "cell_type": "code",
   "execution_count": 8,
   "metadata": {
    "collapsed": false
   },
   "outputs": [
    {
     "data": {
      "text/plain": [
       "array([['Lista PVP3', '0112-06-00', 2.82],\n",
       "       ['Lista PVP3', '0112-08-00', 3.42],\n",
       "       ['Lista PVP3', '0112-10-00', 4.5],\n",
       "       ..., \n",
       "       ['Último precio de compra', 'ZRE-6-A', None],\n",
       "       ['Último precio de compra', 'ZRE-6-AB', None],\n",
       "       ['Último precio de compra', 'ZRE-6-B', 35.64]], dtype=object)"
      ]
     },
     "execution_count": 8,
     "metadata": {},
     "output_type": "execute_result"
    }
   ],
   "source": [
    "raw_data_array"
   ]
  },
  {
   "cell_type": "code",
   "execution_count": 9,
   "metadata": {
    "collapsed": true
   },
   "outputs": [],
   "source": [
    "for row in range(raw_data_array.shape[0]):\n",
    "    raw_data_array[row,1] = str(raw_data_array[row,1])"
   ]
  },
  {
   "cell_type": "code",
   "execution_count": 10,
   "metadata": {
    "collapsed": false
   },
   "outputs": [],
   "source": [
    "p1_matrix = []\n",
    "p2_matrix = []\n",
    "p3_matrix = []\n",
    "p4_matrix = []\n",
    "last_matrix = []\n",
    "prov_matrix = []\n",
    "other_matrix =[]\n",
    "for row_num in range(raw_data_array.shape[0]):\n",
    "    row = raw_data_array[row_num,:]\n",
    "    if row[0] == 'Lista PVP1':\n",
    "        p1_matrix.append(row)\n",
    "    elif row[0] == 'Lista PVP2':\n",
    "        p2_matrix.append(row)\n",
    "    elif row[0] == 'Lista PVP3':\n",
    "        p3_matrix.append(row)\n",
    "    elif row[0] == 'Lista PVP4':\n",
    "        p4_matrix.append(row)\n",
    "    elif row[0] == 'Último precio de compra':\n",
    "        last_matrix.append(row)\n",
    "    elif row[0][0] == 'P':\n",
    "        prov_matrix.append(row)\n",
    "    else:\n",
    "        other_matrix.append(row)\n",
    "    "
   ]
  },
  {
   "cell_type": "code",
   "execution_count": 11,
   "metadata": {
    "collapsed": false
   },
   "outputs": [],
   "source": [
    "p1_matrix = np.array(p1_matrix)\n",
    "p2_matrix = np.array(p2_matrix)\n",
    "p3_matrix = np.array(p3_matrix)\n",
    "p4_matrix = np.array(p4_matrix)\n",
    "last_matrix = np.array(last_matrix)\n",
    "prov_matrix = np.array(prov_matrix)\n",
    "other_matrix = np.array(other_matrix)"
   ]
  },
  {
   "cell_type": "markdown",
   "metadata": {},
   "source": [
    "## Paso 2 : crear matriz de PVP"
   ]
  },
  {
   "cell_type": "code",
   "execution_count": 12,
   "metadata": {
    "collapsed": false
   },
   "outputs": [],
   "source": [
    "wb_articulos = load_workbook(filename='Lista de Artículos.xlsx', read_only=True)\n",
    "ws_articulos = wb_articulos[wb_articulos.sheetnames[0]]"
   ]
  },
  {
   "cell_type": "code",
   "execution_count": 13,
   "metadata": {
    "collapsed": false
   },
   "outputs": [],
   "source": [
    "articulos_data_matrix = []\n",
    "for row in ws_articulos:\n",
    "    row_current = []\n",
    "    for cell in row:\n",
    "        row_current.append(cell.value)\n",
    "    articulos_data_matrix.append(row_current)\n",
    "articulos_data_array = np.array(articulos_data_matrix)"
   ]
  },
  {
   "cell_type": "code",
   "execution_count": 16,
   "metadata": {
    "collapsed": false
   },
   "outputs": [],
   "source": [
    "bool_array = []\n",
    "prov_array = []\n",
    "for row in range(articulos_data_array.shape[0]):\n",
    "    articulos_data_array[row,0] = str(articulos_data_array[row,0])\n",
    "    articulos_data_array[row,2] = str(articulos_data_array[row,2])\n",
    "    \n",
    "    bool_data = str_to_bool(articulos_data_array[row,1])\n",
    "    bool_array.append(bool_data)\n",
    "    prov_data = buscaproob(articulos_data_array[row,2])\n",
    "    prov_array.append(prov_data)\n",
    "\n",
    "bool_array = np.array(bool_array)\n",
    "prov_array = np.array(prov_array)"
   ]
  },
  {
   "cell_type": "code",
   "execution_count": 17,
   "metadata": {
    "collapsed": true
   },
   "outputs": [],
   "source": [
    "articulos_pvp_array = np.zeros((articulos_data_array.shape[0],5),dtype='O')"
   ]
  },
  {
   "cell_type": "code",
   "execution_count": 18,
   "metadata": {
    "collapsed": false
   },
   "outputs": [],
   "source": [
    "articulos_pvp_array[:,0] = articulos_data_array[:,0]"
   ]
  },
  {
   "cell_type": "code",
   "execution_count": 19,
   "metadata": {
    "collapsed": false
   },
   "outputs": [
    {
     "data": {
      "text/plain": [
       "array([['000000.3206.110.50', 0, 0, 0, 0],\n",
       "       ['0112-06-00', 0, 0, 0, 0],\n",
       "       ['0112-08-00', 0, 0, 0, 0],\n",
       "       ['0112-10-00', 0, 0, 0, 0],\n",
       "       ['0126-08-00', 0, 0, 0, 0],\n",
       "       ['0160-MA-010-BN', 0, 0, 0, 0],\n",
       "       ['02000-04', 0, 0, 0, 0],\n",
       "       ['02000-06', 0, 0, 0, 0],\n",
       "       ['02000-10', 0, 0, 0, 0],\n",
       "       ['208025', 0, 0, 0, 0],\n",
       "       ['208027', 0, 0, 0, 0],\n",
       "       ['226005600', 0, 0, 0, 0],\n",
       "       ['0240D010BN4HC', 0, 0, 0, 0],\n",
       "       ['025-CS-200', 0, 0, 0, 0],\n",
       "       ['025-CS-250', 0, 0, 0, 0],\n",
       "       ['3040402', 0, 0, 0, 0],\n",
       "       ['3041002', 0, 0, 0, 0],\n",
       "       ['31001', 0, 0, 0, 0],\n",
       "       ['31002', 0, 0, 0, 0],\n",
       "       ['31003', 0, 0, 0, 0]], dtype=object)"
      ]
     },
     "execution_count": 19,
     "metadata": {},
     "output_type": "execute_result"
    }
   ],
   "source": [
    "articulos_pvp_array[:20,]"
   ]
  },
  {
   "cell_type": "code",
   "execution_count": 20,
   "metadata": {
    "collapsed": false
   },
   "outputs": [
    {
     "name": "stdout",
     "output_type": "stream",
     "text": [
      "calculando PVP 1 antiguo\n",
      "calculando PVP 2 antiguo\n",
      "calculando PVP 3 antiguo\n",
      "calculando PVP 4 antiguo\n",
      "completado\n"
     ]
    }
   ],
   "source": [
    "p1_errores = []\n",
    "p2_errores = []\n",
    "p3_errores = []\n",
    "p4_errores = []\n",
    "pvp_list = [p1_matrix,\n",
    "            p2_matrix,\n",
    "            p3_matrix,\n",
    "            p4_matrix]\n",
    "pvp_error_list = [p1_errores,\n",
    "                  p2_errores,\n",
    "                  p3_errores,\n",
    "                  p4_errores]\n",
    "for pvp_num in range(4):\n",
    "    print('calculando PVP', pvp_num + 1, 'antiguo')\n",
    "    for row in range(pvp_list[pvp_num].shape[0]):\n",
    "        name = pvp_list[pvp_num][row, 1]\n",
    "        cost = pvp_list[pvp_num][row, 2]\n",
    "        if name in articulos_pvp_array[:,0]:\n",
    "            loc = np.where(articulos_pvp_array[:,0]==name)[0][0]\n",
    "            articulos_pvp_array[loc, pvp_num + 1] = cost\n",
    "        else:\n",
    "            pvp_error_list[pvp_num].append(pvp_list[pvp_num][row, :])\n",
    "p1_errores = np.array(p1_errores)\n",
    "p2_errores = np.array(p2_errores)\n",
    "p3_errores = np.array(p3_errores)\n",
    "p4_errores = np.array(p4_errores)\n",
    "print('completado')"
   ]
  },
  {
   "cell_type": "markdown",
   "metadata": {},
   "source": [
    "## Definir precio base de compra"
   ]
  },
  {
   "cell_type": "code",
   "execution_count": 21,
   "metadata": {
    "collapsed": true
   },
   "outputs": [],
   "source": [
    "prov_cost_dict = {}\n",
    "for row_num in range(prov_matrix.shape[0]):\n",
    "    row = prov_matrix[row_num,:]\n",
    "    name = row[1]\n",
    "    cost = row[2]\n",
    "    if name in prov_cost_dict :\n",
    "        prov_cost_dict[name].append(cost)\n",
    "    else:\n",
    "        prov_cost_dict[name] = [cost]\n",
    "        \n"
   ]
  },
  {
   "cell_type": "code",
   "execution_count": 22,
   "metadata": {
    "collapsed": true
   },
   "outputs": [],
   "source": [
    "def calc_precio_base(lista_precios):\n",
    "    return np.round(np.mean(lista_precios), decimals=2)"
   ]
  },
  {
   "cell_type": "code",
   "execution_count": 23,
   "metadata": {
    "collapsed": false
   },
   "outputs": [],
   "source": [
    "precio_base_array = []\n",
    "for name in prov_cost_dict :\n",
    "    cost = calc_precio_base(prov_cost_dict[name])\n",
    "    precio_base_array.append([name, cost])\n",
    "    \n",
    "precio_base_array = np.array(precio_base_array)\n",
    "precio_compra_array = precio_base_array"
   ]
  },
  {
   "cell_type": "code",
   "execution_count": 24,
   "metadata": {
    "collapsed": false
   },
   "outputs": [],
   "source": [
    "last_matrix_new =[]\n",
    "last_matrix_error = []\n",
    "for row_num in range(last_matrix.shape[0]):\n",
    "    row = last_matrix[row_num,1:]\n",
    "    if row[1] != None:\n",
    "        last_matrix_new.append(row)\n",
    "    else: \n",
    "        last_matrix_error.append(row)\n",
    "\n",
    "last_matrix_new=np.array(last_matrix_new)\n",
    "last_matrix_error = np.array(last_matrix_error)\n",
    "last_matrix = last_matrix_new"
   ]
  },
  {
   "cell_type": "code",
   "execution_count": 25,
   "metadata": {
    "collapsed": false
   },
   "outputs": [],
   "source": [
    "art_in_last_not_in_prov = []\n",
    "for row_num in range(last_matrix_new.shape[0]):\n",
    "    row = last_matrix_new[row_num,:]\n",
    "    name = row[0]\n",
    "    cost = row[1]\n",
    "    if not(name in precio_base_array[:,0]):\n",
    "        if cost != 0:\n",
    "            art_in_last_not_in_prov.append(row)\n",
    "art_in_last_not_in_prov = np.array(art_in_last_not_in_prov)"
   ]
  },
  {
   "cell_type": "code",
   "execution_count": 26,
   "metadata": {
    "collapsed": true
   },
   "outputs": [],
   "source": [
    "art_in_prov_not_in_last = []\n",
    "for row_num in range(precio_base_array.shape[0]):\n",
    "    row = precio_base_array[row_num,:]\n",
    "    name = row[0]\n",
    "    cost = row[1]\n",
    "    if not(name in last_matrix_new[:,0]):\n",
    "        if cost != 0:\n",
    "            art_in_prov_not_in_last.append(row)\n",
    "art_in_prov_not_in_last = np.array(art_in_prov_not_in_last)"
   ]
  },
  {
   "cell_type": "code",
   "execution_count": 27,
   "metadata": {
    "collapsed": true
   },
   "outputs": [],
   "source": [
    "alertas_dict = {}\n",
    "text = 'artículo con precio de compra pero no de proveedor'\n",
    "for row in range(art_in_last_not_in_prov.shape[0]):\n",
    "    name = art_in_last_not_in_prov[row,0]\n",
    "    alertas_dict[name] = [text]"
   ]
  },
  {
   "cell_type": "code",
   "execution_count": 28,
   "metadata": {
    "collapsed": true
   },
   "outputs": [],
   "source": [
    "text = 'artículo con precio de proovedor pero no de compra'\n",
    "for row in range(art_in_prov_not_in_last.shape[0]):\n",
    "    name = art_in_prov_not_in_last[row,0]\n",
    "    alertas_dict[name] = [text]"
   ]
  },
  {
   "cell_type": "code",
   "execution_count": 29,
   "metadata": {
    "collapsed": false
   },
   "outputs": [],
   "source": [
    "last_matrix_new = np.concatenate((last_matrix_new, art_in_prov_not_in_last))\n",
    "precio_base_array = np.concatenate((precio_base_array, art_in_last_not_in_prov))"
   ]
  },
  {
   "cell_type": "markdown",
   "metadata": {},
   "source": [
    "Comparar precio medio de proveedores y ultimo precio de compra"
   ]
  },
  {
   "cell_type": "code",
   "execution_count": 30,
   "metadata": {
    "collapsed": false
   },
   "outputs": [],
   "source": [
    "precio_base_final_array = []\n",
    "for row_num in range(precio_base_array.shape[0]):\n",
    "    row = precio_base_array[row_num,:]\n",
    "    name = row[0]\n",
    "    cost = float(row[1])\n",
    "    if name in last_matrix_new[:,0]:\n",
    "        loc = np.where(last_matrix_new[:,0]==name)[0][0]\n",
    "        cost_2 = float(last_matrix_new[loc,1])\n",
    "        cost_dif = abs((cost-cost_2)/np.min([cost, cost_2]))\n",
    "        if cost_dif > 5 :\n",
    "            alertas_dict[name] = 'diferencia grande entre precio de compra y precios de proveedor'\n",
    "        elif cost_dif > 0.5 :\n",
    "            alertas_dict[name] = 'diferencia pequeña entre precio de compra y precios de proveedor'\n",
    "        cost_final = np.mean([cost, cost_2])\n",
    "        precio_base_final_array.append([name, cost_final])\n",
    "    else:\n",
    "        print('ESTE ERROR NUNCA PUEDE APARECER. AVISAR A SIRO')\n",
    "        print('ERROR', name, 'NO ENCONTRADO')\n",
    "        \n",
    "precio_base_final_array = np.array(precio_base_final_array)        "
   ]
  },
  {
   "cell_type": "markdown",
   "metadata": {},
   "source": [
    "## Crear PVP nuevos"
   ]
  },
  {
   "cell_type": "code",
   "execution_count": 31,
   "metadata": {
    "collapsed": true
   },
   "outputs": [],
   "source": [
    "def factor_precio(f_01, f_1000):\n",
    "    slope = (f_1000-f_01)/4\n",
    "    f_0 = f_01 + slope\n",
    "    def tempfun(x):\n",
    "        fun = f_0 + slope * np.log10(x)\n",
    "        fun2 = np.maximum(fun, f_1000)\n",
    "        fun3 = np.minimum(fun2, f_01)\n",
    "        return fun3\n",
    "    return tempfun"
   ]
  },
  {
   "cell_type": "code",
   "execution_count": 32,
   "metadata": {
    "collapsed": false
   },
   "outputs": [],
   "source": [
    "def precios(precio_compra):\n",
    "    p3_factor = factor_precio(3, 1.3)(precio_compra)\n",
    "    p3 = precio_compra * p3_factor\n",
    "    p1 = 2.1 * p3\n",
    "    p2_factor = factor_precio(1.4, 1.15)(p1)\n",
    "    p2 = p1 * p2_factor\n",
    "    p4_factor = factor_precio(2, 1.4)(p1)\n",
    "    p4 = p1 * p4_factor\n",
    "    return [p1, p2, p3, p4]"
   ]
  },
  {
   "cell_type": "code",
   "execution_count": 33,
   "metadata": {
    "collapsed": false
   },
   "outputs": [],
   "source": [
    "precio_base_final = np.array(precio_base_final_array[:,1], dtype='float64')\n"
   ]
  },
  {
   "cell_type": "code",
   "execution_count": 34,
   "metadata": {
    "collapsed": false
   },
   "outputs": [
    {
     "data": {
      "text/plain": [
       "14686"
      ]
     },
     "execution_count": 34,
     "metadata": {},
     "output_type": "execute_result"
    }
   ],
   "source": [
    "bool_array.shape[0]"
   ]
  },
  {
   "cell_type": "code",
   "execution_count": 35,
   "metadata": {
    "collapsed": false
   },
   "outputs": [
    {
     "data": {
      "text/plain": [
       "12809"
      ]
     },
     "execution_count": 35,
     "metadata": {},
     "output_type": "execute_result"
    }
   ],
   "source": [
    "precio_base_final.shape[0]"
   ]
  },
  {
   "cell_type": "code",
   "execution_count": 36,
   "metadata": {
    "collapsed": false
   },
   "outputs": [],
   "source": [
    "articulos_pvp_nuevo_array = np.round(np.array(precios(precio_base_final)).T,decimals=2)"
   ]
  },
  {
   "cell_type": "markdown",
   "metadata": {},
   "source": [
    "## Comparar PVP nuevo y antiguo"
   ]
  },
  {
   "cell_type": "code",
   "execution_count": 37,
   "metadata": {
    "collapsed": false
   },
   "outputs": [
    {
     "name": "stderr",
     "output_type": "stream",
     "text": [
      "C:\\Anaconda3\\lib\\site-packages\\ipykernel\\__main__.py:17: RuntimeWarning: divide by zero encountered in true_divide\n"
     ]
    }
   ],
   "source": [
    "articulos_pvp_array_diferencias = np.zeros_like(articulos_pvp_array)\n",
    "articulos_pvp_nuevo_array_coherent = np.zeros_like(articulos_pvp_array)\n",
    "\n",
    "articulos_pvp_array_diferencias[:,0] = articulos_pvp_array[:,0]\n",
    "articulos_pvp_nuevo_array_coherent[:,0] = articulos_pvp_array[:,0]\n",
    "\n",
    "articulos_pvp_no_encontrado = []\n",
    "alerta_grave_dict = {}\n",
    "\n",
    "for row in range(precio_base_final_array.shape[0]):\n",
    "    name = precio_base_final_array[row,0]\n",
    "    pvp_nuevo = articulos_pvp_nuevo_array[row,:]    \n",
    "    if name in articulos_pvp_array[:,0]:\n",
    "        loc = np.where(articulos_pvp_array[:,0]==name)[0][0]\n",
    "        pvp_viejo = np.array(articulos_pvp_array[loc,1:], dtype='float64')\n",
    "        \n",
    "        diferencia = np.round((100 * (pvp_nuevo-pvp_viejo) / pvp_viejo), decimals=2)\n",
    "        articulos_pvp_array_diferencias[loc,1:] = diferencia\n",
    "        articulos_pvp_nuevo_array_coherent[loc,1:] = pvp_nuevo\n",
    "    else:\n",
    "        articulos_pvp_no_encontrado.append([name].append(list(pvp_nuevo)))"
   ]
  },
  {
   "cell_type": "code",
   "execution_count": 38,
   "metadata": {
    "collapsed": false
   },
   "outputs": [],
   "source": [
    "for row in range(articulos_pvp_array.shape[0]):\n",
    "\n",
    "    name = articulos_pvp_array[row,0]\n",
    "    pvp_nuevo = articulos_pvp_nuevo_array_coherent[row,1:]\n",
    "    pvp_viejo = articulos_pvp_array[row, 1:]\n",
    "    if (np.sum(pvp_nuevo) == 0) and (np.sum(pvp_viejo) != 0) :\n",
    "        \n",
    "        alerta_grave_dict[name] = 'PRECIO NUEVO NO CALCULADO: PRECIO NO MODIFICADO'\n",
    "        articulos_pvp_nuevo_array_coherent[row,1:] = pvp_viejo"
   ]
  },
  {
   "cell_type": "code",
   "execution_count": 39,
   "metadata": {
    "collapsed": true
   },
   "outputs": [],
   "source": [
    "pvp_arrays_list = [articulos_pvp_array, articulos_pvp_nuevo_array_coherent, articulos_pvp_array_diferencias]"
   ]
  },
  {
   "cell_type": "code",
   "execution_count": 40,
   "metadata": {
    "collapsed": true
   },
   "outputs": [],
   "source": [
    "precios_dato_array = np.zeros([articulos_pvp_array.shape[0],3])"
   ]
  },
  {
   "cell_type": "code",
   "execution_count": 41,
   "metadata": {
    "collapsed": false
   },
   "outputs": [],
   "source": [
    "for row in range(articulos_pvp_array.shape[0]):\n",
    "    name = articulos_pvp_array[row,0]    \n",
    "    if name in last_matrix[:,0]:\n",
    "        loc = np.where(last_matrix[:,0]==name)[0][0]\n",
    "        precios_dato_array[row,2] = last_matrix[loc,1] \n",
    "    if name in precio_compra_array[:,0]:\n",
    "        loc = np.where(precio_compra_array[:,0]==name)[0][0]\n",
    "        precios_dato_array[row,1] = precio_compra_array[loc,1]\n",
    "    if name in precio_base_final_array[:,0]:\n",
    "        loc = np.where(precio_base_final_array[:,0]==name)[0][0]\n",
    "        precios_dato_array[row,0] = precio_base_final_array[loc,1]\n",
    "    "
   ]
  },
  {
   "cell_type": "code",
   "execution_count": 42,
   "metadata": {
    "collapsed": false
   },
   "outputs": [],
   "source": [
    "data_to_save = [['art', \n",
    "                 'pvp1 ant', 'pvp1 nuev', '% difer',\n",
    "                 'pvp2 ant', 'pvp2 nuev', '% difer',\n",
    "                 'pvp3 ant', 'pvp3 nuev', '% difer',\n",
    "                 'pvp4 ant', 'pvp4 nuev', '% difer',\n",
    "                 'P Base', 'P Proveedor', 'P compra']]\n",
    "\n",
    "for row in range(articulos_pvp_array.shape[0]):\n",
    "#for row in range(20):\n",
    "    name = articulos_pvp_array[row, 0]\n",
    "    new_row = [name]\n",
    "    for pvp_num in range(4):\n",
    "        for table in range(3):\n",
    "            cost = pvp_arrays_list[table][row, pvp_num + 1]\n",
    "            new_row.append(cost)\n",
    "    for ii in range(3):\n",
    "        cost = precios_dato_array[row, ii]\n",
    "        new_row.append(cost)\n",
    "    \n",
    "    data_to_save.append(new_row)    \n",
    "data_to_save_array = np.array(data_to_save[1:])    "
   ]
  },
  {
   "cell_type": "markdown",
   "metadata": {},
   "source": [
    "## Corregimos los datos con el tipo de artículo"
   ]
  },
  {
   "cell_type": "code",
   "execution_count": 43,
   "metadata": {
    "collapsed": false
   },
   "outputs": [
    {
     "data": {
      "text/plain": [
       "array([['P385', '0240D010BN4HC', 46.67]], dtype=object)"
      ]
     },
     "execution_count": 43,
     "metadata": {},
     "output_type": "execute_result"
    }
   ],
   "source": [
    "prov_temp = prov_matrix[np.where(prov_matrix[:,0] == 'P385' )[0]]\n",
    "found_prov = prov_temp[np.where(prov_temp[:,1] == '0240D010BN4HC')[0]]\n",
    "found_prov"
   ]
  },
  {
   "cell_type": "code",
   "execution_count": 44,
   "metadata": {
    "collapsed": false
   },
   "outputs": [
    {
     "data": {
      "text/plain": [
       "True"
      ]
     },
     "execution_count": 44,
     "metadata": {},
     "output_type": "execute_result"
    }
   ],
   "source": [
    "bool(found_prov.shape[0])"
   ]
  },
  {
   "cell_type": "code",
   "execution_count": 45,
   "metadata": {
    "collapsed": false
   },
   "outputs": [
    {
     "data": {
      "text/plain": [
       "46.67"
      ]
     },
     "execution_count": 45,
     "metadata": {},
     "output_type": "execute_result"
    }
   ],
   "source": [
    "found_prov[0,2]"
   ]
  },
  {
   "cell_type": "code",
   "execution_count": 46,
   "metadata": {
    "collapsed": false
   },
   "outputs": [
    {
     "data": {
      "text/plain": [
       "35.640000000000001"
      ]
     },
     "execution_count": 46,
     "metadata": {},
     "output_type": "execute_result"
    }
   ],
   "source": [
    "cost"
   ]
  },
  {
   "cell_type": "code",
   "execution_count": 47,
   "metadata": {
    "collapsed": false
   },
   "outputs": [],
   "source": [
    "notas = []\n",
    "error_array =['']\n",
    "for row in range(bool_array.shape[0]):    \n",
    "    name = articulos_pvp_array[row, 0]\n",
    "    if not bool_array[row]:\n",
    "        prov = prov_array[row]\n",
    "        if prov == '':\n",
    "            notas.append('Artículo de no Autoprecio sin proveedor asignado')\n",
    "            error_array.append(True)\n",
    "            continue\n",
    "        prov_temp = prov_matrix[np.where(prov_matrix[:,0] == prov )[0]]\n",
    "        found_prov = prov_temp[np.where(prov_temp[:,1] == name)[0]]\n",
    "        if not bool(found_prov.shape[0]):\n",
    "            notas.append('Artículo no encontrado en el catálogo del proveedor asignado: '+str(prov))\n",
    "            error_array.append(True)\n",
    "            continue\n",
    "        data_to_save_array[row, 1:7]=0\n",
    "        data_to_save_array[row, 10:13]=0\n",
    "        cost = found_prov[0,2]\n",
    "        cost_2 = float(data_to_save_array[row,7])\n",
    "        data_to_save_array[row,8] = cost\n",
    "        data_to_save_array[row,9] = np.round(100*(cost - cost_2)/cost_2, decimals=2)\n",
    "        notas.append('Precio de proveedor: '+str(prov))\n",
    "    else:\n",
    "        notas.append('')\n",
    "    error_array.append(False)"
   ]
  },
  {
   "cell_type": "code",
   "execution_count": 48,
   "metadata": {
    "collapsed": false
   },
   "outputs": [],
   "source": [
    "new_wb = Workbook()"
   ]
  },
  {
   "cell_type": "code",
   "execution_count": 49,
   "metadata": {
    "collapsed": false
   },
   "outputs": [],
   "source": [
    "ws = new_wb.active"
   ]
  },
  {
   "cell_type": "code",
   "execution_count": 50,
   "metadata": {
    "collapsed": false
   },
   "outputs": [],
   "source": [
    "data_to_save = [['art', \n",
    "                 'pvp1 ant', 'pvp1 nuev', '% difer',\n",
    "                 'pvp2 ant', 'pvp2 nuev', '% difer',\n",
    "                 'pvp3 ant', 'pvp3 nuev', '% difer',\n",
    "                 'pvp4 ant', 'pvp4 nuev', '% difer',\n",
    "                 'P Base', 'P Proveedor', 'P compra']]\n",
    "for row in range(bool_array.shape[0]):\n",
    "    line = []\n",
    "    for cell in data_to_save_array[row, :]:\n",
    "        line.append(cell)\n",
    "    line.append(notas[row])\n",
    "    data_to_save.append(line)"
   ]
  },
  {
   "cell_type": "code",
   "execution_count": 51,
   "metadata": {
    "collapsed": false,
    "scrolled": true
   },
   "outputs": [],
   "source": [
    "for row in range(len(data_to_save)):\n",
    "    \n",
    "    ws.append(data_to_save[row])"
   ]
  },
  {
   "cell_type": "markdown",
   "metadata": {},
   "source": [
    "## Poniendo Bonito el Excel "
   ]
  },
  {
   "cell_type": "code",
   "execution_count": 52,
   "metadata": {
    "collapsed": true
   },
   "outputs": [],
   "source": [
    "def rgb(red, green, blue):\n",
    "    '''Crea código rgb a partir de porcentajes'''\n",
    "    if red < 0 : red = 0\n",
    "    if red > 100 : red = 100\n",
    "    if green < 0 : green = 0\n",
    "    if green > 100 : green = 100\n",
    "    if blue < 0 : blue = 0\n",
    "    if blue > 100 : blue = 100\n",
    "        \n",
    "    r = round(red * 2.55)    \n",
    "    g = round(green * 2.55)    \n",
    "    b = round(blue * 2.55)\n",
    "    \n",
    "    r = hex(r)[-2:]\n",
    "    g = hex(g)[-2:]\n",
    "    b = hex(b)[-2:]\n",
    "    \n",
    "    return 'ff' + r + g + b"
   ]
  },
  {
   "cell_type": "code",
   "execution_count": 53,
   "metadata": {
    "collapsed": true
   },
   "outputs": [],
   "source": [
    "def relleno(r,g,b):\n",
    "    rell = PatternFill(start_color=rgb(r,g,b),\n",
    "                   end_color=rgb(r,g,b),\n",
    "                   fill_type='solid')\n",
    "    return rell"
   ]
  },
  {
   "cell_type": "code",
   "execution_count": 54,
   "metadata": {
    "collapsed": true
   },
   "outputs": [],
   "source": [
    "def coord_excel(row,col):\n",
    "    str_key ='ABCDEFGHIJKLMNOPQRSTUVW'\n",
    "    return str_key[col] + str(row+1)"
   ]
  },
  {
   "cell_type": "code",
   "execution_count": 73,
   "metadata": {
    "collapsed": false
   },
   "outputs": [],
   "source": [
    "rojo = relleno(100,60,60)\n",
    "verde_claro = relleno(90,98,94)\n",
    "naranja_claro = relleno(98, 90, 80)\n",
    "naranja = relleno(98, 80, 60)\n",
    "rojo_claro = relleno(100, 85, 85)\n",
    "verde_oscuro = relleno(70,90,80)\n",
    "gris_oscuro = relleno(70,70,70)\n",
    "gris_claro = relleno(90,90,90)\n",
    "verde_mas_oscuro = relleno(40,80,60)\n",
    "azul_claro = relleno(90,95,100)\n",
    "azul_oscuro = relleno(70,70,90)\n",
    "marron = relleno(85,75,40)"
   ]
  },
  {
   "cell_type": "code",
   "execution_count": 56,
   "metadata": {
    "collapsed": true
   },
   "outputs": [],
   "source": [
    "ws.column_dimensions['A'].width = 30\n",
    "str_key ='ABCDEFGHIJKLMNOPQRSTUVW'\n",
    "for col in range(1, 16):\n",
    "    col_name = str_key[col]\n",
    "    ws.column_dimensions[col_name].width = 7"
   ]
  },
  {
   "cell_type": "code",
   "execution_count": 57,
   "metadata": {
    "collapsed": false
   },
   "outputs": [],
   "source": [
    "for pvp_num in range(4):\n",
    "    for row in range(1,len(data_to_save)):\n",
    "        col = 3 * (pvp_num + 1)\n",
    "        cell = ws[coord_excel(row,col)]\n",
    "        diff = float(cell.value)\n",
    "        color = verde_claro\n",
    "        if diff > 500 :\n",
    "            color = rojo\n",
    "        elif diff > 100 :\n",
    "            color = verde_mas_oscuro\n",
    "        elif diff > 20 :\n",
    "            color = verde_oscuro\n",
    "        elif diff < -50 :\n",
    "            color = naranja\n",
    "        elif diff < 0 :\n",
    "            color = naranja_claro\n",
    "        \n",
    "        for ii in range(3):\n",
    "            cell = ws[coord_excel(row,col - ii)]\n",
    "            cell.fill = color"
   ]
  },
  {
   "cell_type": "code",
   "execution_count": 58,
   "metadata": {
    "collapsed": false
   },
   "outputs": [],
   "source": [
    "for row in range(1,len(data_to_save)):\n",
    "    compra =float( ws[coord_excel(row,14)].value)\n",
    "    prov = float(ws[coord_excel(row,15)].value)\n",
    "    \n",
    "    if (compra == 0 or prov == 0):\n",
    "        for col in range(13, 16):\n",
    "            cell = ws[coord_excel(row,col)]\n",
    "            cell.fill = naranja_claro\n",
    "    else:\n",
    "        dif = abs(compra - prov)\n",
    "        minimo = min(compra, prov)\n",
    "        porcen = 100 * dif / minimo\n",
    "        if (dif > 0.05 and porcen > 50):\n",
    "            color = azul_oscuro\n",
    "        else:\n",
    "            color = azul_claro\n",
    "        for col in range(13, 16):\n",
    "            cell = ws[coord_excel(row,col)]\n",
    "            cell.fill = color"
   ]
  },
  {
   "cell_type": "code",
   "execution_count": 59,
   "metadata": {
    "collapsed": false
   },
   "outputs": [],
   "source": [
    "for row in range(1,len(data_to_save)):\n",
    "    name = articulos_pvp_array[row-1, 0]\n",
    "    if name in alerta_grave_dict:\n",
    "        for col in range(1, 16):\n",
    "            cell = ws[coord_excel(row,col)]\n",
    "            cell.fill = gris_oscuro"
   ]
  },
  {
   "cell_type": "code",
   "execution_count": 60,
   "metadata": {
    "collapsed": false
   },
   "outputs": [],
   "source": [
    "for row in range(1,len(data_to_save)):\n",
    "    nulo = True\n",
    "    for col in range(1, 16):\n",
    "        cell = ws[coord_excel(row,col)]\n",
    "        if float(cell.value) != 0 : nulo = False\n",
    "    if nulo:\n",
    "        for col in range(1, 16):\n",
    "            cell = ws[coord_excel(row,col)]\n",
    "            cell.fill = gris_claro"
   ]
  },
  {
   "cell_type": "code",
   "execution_count": 74,
   "metadata": {
    "collapsed": true
   },
   "outputs": [],
   "source": [
    "for row in range(1,len(data_to_save)):\n",
    "    \n",
    "    if error_array[row]:\n",
    "        for col in range(1, 16):\n",
    "            cell = ws[coord_excel(row,col)]\n",
    "            cell.fill = marron"
   ]
  },
  {
   "cell_type": "code",
   "execution_count": 61,
   "metadata": {
    "collapsed": true
   },
   "outputs": [],
   "source": [
    "thick_border = Border(right=Side(style='thick'))\n"
   ]
  },
  {
   "cell_type": "code",
   "execution_count": 62,
   "metadata": {
    "collapsed": true
   },
   "outputs": [],
   "source": [
    "thick_bottom = Border(bottom=Side(style='thick'))"
   ]
  },
  {
   "cell_type": "code",
   "execution_count": 63,
   "metadata": {
    "collapsed": true
   },
   "outputs": [],
   "source": [
    "for pvp_num in range(5):\n",
    "    for row in range(1,len(data_to_save)):\n",
    "        col = pvp_num * 3\n",
    "        cell = ws[coord_excel(row,col)]\n",
    "        cell.border = thick_border"
   ]
  },
  {
   "cell_type": "code",
   "execution_count": 64,
   "metadata": {
    "collapsed": true
   },
   "outputs": [],
   "source": [
    "for col in range(13):\n",
    "    cell = ws[coord_excel(0,col)]\n",
    "    cell.border = thick_bottom"
   ]
  },
  {
   "cell_type": "code",
   "execution_count": 65,
   "metadata": {
    "collapsed": true
   },
   "outputs": [],
   "source": [
    "ws.freeze_panes = 'A2'"
   ]
  },
  {
   "cell_type": "code",
   "execution_count": 66,
   "metadata": {
    "collapsed": true
   },
   "outputs": [],
   "source": [
    "ws.auto_filter.ref = \"A1:\" + coord_excel(0, len(data_to_save[0]))"
   ]
  },
  {
   "cell_type": "code",
   "execution_count": 75,
   "metadata": {
    "collapsed": false
   },
   "outputs": [],
   "source": [
    "new_wb.save('resultado_excel.xlsx')"
   ]
  },
  {
   "cell_type": "code",
   "execution_count": null,
   "metadata": {
    "collapsed": true
   },
   "outputs": [],
   "source": []
  },
  {
   "cell_type": "code",
   "execution_count": null,
   "metadata": {
    "collapsed": true
   },
   "outputs": [],
   "source": []
  },
  {
   "cell_type": "code",
   "execution_count": null,
   "metadata": {
    "collapsed": true
   },
   "outputs": [],
   "source": []
  }
 ],
 "metadata": {
  "kernelspec": {
   "display_name": "Python 3",
   "language": "python",
   "name": "python3"
  },
  "language_info": {
   "codemirror_mode": {
    "name": "ipython",
    "version": 3
   },
   "file_extension": ".py",
   "mimetype": "text/x-python",
   "name": "python",
   "nbconvert_exporter": "python",
   "pygments_lexer": "ipython3",
   "version": "3.5.1"
  }
 },
 "nbformat": 4,
 "nbformat_minor": 0
}
