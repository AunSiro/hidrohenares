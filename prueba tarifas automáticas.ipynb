{
 "cells": [
  {
   "cell_type": "code",
   "execution_count": 1,
   "metadata": {
    "collapsed": true
   },
   "outputs": [],
   "source": [
    "%matplotlib inline\n",
    "import numpy as np\n",
    "import matplotlib.pyplot as plt"
   ]
  },
  {
   "cell_type": "code",
   "execution_count": 2,
   "metadata": {
    "collapsed": true
   },
   "outputs": [],
   "source": [
    "def factor_precio(f_01, f_1000):\n",
    "    slope = (f_1000-f_01)/4\n",
    "    f_0 = f_01 + slope\n",
    "    def tempfun(x):\n",
    "        fun = f_0 + slope * np.log10(x)\n",
    "        fun2 = np.maximum(fun, f_1000)\n",
    "        fun3 = np.minimum(fun2, f_01)\n",
    "        return fun3\n",
    "    return tempfun"
   ]
  },
  {
   "cell_type": "code",
   "execution_count": 19,
   "metadata": {
    "collapsed": false
   },
   "outputs": [
    {
     "data": {
      "image/png": "[encoded data removed]",
      "text/plain": [
       "<matplotlib.figure.Figure at 0x7aacc50>"
      ]
     },
     "metadata": {},
     "output_type": "display_data"
    }
   ],
   "source": [
    "x = np.logspace(-2, 3.5, 500)\n",
    "y = factor_precio(3,1.4)(x)\n",
    "plt.plot(x,y)\n",
    "plt.xscale('log')\n",
    "plt.ylim((np.min(y)-0.5,np.max(y)*1.1))\n",
    "plt.grid()"
   ]
  },
  {
   "cell_type": "code",
   "execution_count": 3,
   "metadata": {
    "collapsed": false
   },
   "outputs": [],
   "source": [
    "def precios(precio_compra):\n",
    "    p3_factor = factor_precio(3, 1.3)(precio_compra)\n",
    "    p3 = precio_compra * p3_factor\n",
    "    p1 = 2.1 * p3\n",
    "    p2_factor = factor_precio(1.4, 1.15)(p1)\n",
    "    p2 = p1 * p2_factor\n",
    "    p4_factor = factor_precio(2, 1.4)(p1)\n",
    "    p4 = p1 * p4_factor\n",
    "    return [p1, p2, p3, p4]"
   ]
  },
  {
   "cell_type": "code",
   "execution_count": 21,
   "metadata": {
    "collapsed": false
   },
   "outputs": [],
   "source": [
    "precio_compra_array = np.array([0.01,0.05,0.1,0.5,1,5,10,50,100,500,1000])"
   ]
  },
  {
   "cell_type": "code",
   "execution_count": 22,
   "metadata": {
    "collapsed": true
   },
   "outputs": [],
   "source": [
    "precios_venta = np.array(precios(precio_compra_array)).T"
   ]
  },
  {
   "cell_type": "code",
   "execution_count": 23,
   "metadata": {
    "collapsed": false
   },
   "outputs": [
    {
     "name": "stdout",
     "output_type": "stream",
     "text": [
      "PC      PVP1    PVP2    PVP3    PVP4\n",
      "0.01    0.06    0.09    0.03    0.13    \n",
      "0.05    0.32    0.43    0.15    0.61    \n",
      "0.1     0.63    0.85    0.3     1.18    \n",
      "0.5     2.84    3.72    1.35    5.06    \n",
      "1.0     5.41    6.98    2.58    9.41    \n",
      "5.0     23.92   29.93   11.39   39.3    \n",
      "10.0    45.15   55.72   21.5    72.32   \n",
      "50.0    194.56  232.39  92.65   293.13  \n",
      "100.0   362.25  426.57  172.5   531.11  \n",
      "500.0   1499.33 1724.23 713.97  2099.07 \n",
      "1000.0  2730.0  3139.5  1300.0  3822.0  \n"
     ]
    }
   ],
   "source": [
    "print('PC      PVP1    PVP2    PVP3    PVP4')\n",
    "for ii in range(len(precio_compra_array)):\n",
    "    print(str(precio_compra_array[ii].round(2)).ljust(7), end = ' ')\n",
    "    for jj in range(4):\n",
    "        print(str(precios_venta[ii,jj].round(2)).ljust(7), end = ' ')\n",
    "    print('')"
   ]
  },
  {
   "cell_type": "code",
   "execution_count": 12,
   "metadata": {
    "collapsed": false
   },
   "outputs": [],
   "source": [
    "def manual_precio():\n",
    "    precio = float(input('precio de compra:'))\n",
    "    x = precios(precio)\n",
    "    print('PC      PVP1    PVP2    PVP3    PVP4')\n",
    "    print(str(np.round(precio,2)).ljust(7), end = ' ')\n",
    "    for jj in range(4):\n",
    "        print(str(x[jj].round(2)).ljust(7), end = ' ')\n",
    "    return"
   ]
  },
  {
   "cell_type": "code",
   "execution_count": 20,
   "metadata": {
    "collapsed": false
   },
   "outputs": [
    {
     "name": "stdout",
     "output_type": "stream",
     "text": [
      "precio de compra:45\n",
      "PC      PVP1    PVP2    PVP3    PVP4\n",
      "45.0    176.94  211.8   84.26   267.68  "
     ]
    }
   ],
   "source": [
    "manual_precio()"
   ]
  },
  {
   "cell_type": "code",
   "execution_count": 21,
   "metadata": {
    "collapsed": true
   },
   "outputs": [],
   "source": [
    "from ipywidgets import interact"
   ]
  },
  {
   "cell_type": "code",
   "execution_count": 38,
   "metadata": {
    "collapsed": true
   },
   "outputs": [],
   "source": [
    "def interact_precio(precio):\n",
    "    x = precios(precio)\n",
    "    print('PC       PVP1     PVP2     PVP3     PVP4')\n",
    "    print(str(np.round(precio,2)).ljust(8), end = ' ')\n",
    "    for jj in range(4):\n",
    "        print(str(x[jj].round(2)).ljust(8), end = ' ')\n",
    "    #return"
   ]
  },
  {
   "cell_type": "code",
   "execution_count": 39,
   "metadata": {
    "collapsed": true
   },
   "outputs": [],
   "source": [
    "def interact_precio_exp(exp):\n",
    "    precio = 10**exp\n",
    "    interact_precio(precio)"
   ]
  },
  {
   "cell_type": "code",
   "execution_count": 41,
   "metadata": {
    "collapsed": false,
    "scrolled": true
   },
   "outputs": [
    {
     "name": "stdout",
     "output_type": "stream",
     "text": [
      "PC       PVP1     PVP2     PVP3     PVP4\n",
      "0.15     0.95     1.27     0.45     1.76     "
     ]
    }
   ],
   "source": [
    "interact(interact_precio_exp, exp = [-2, 4, 0.01])"
   ]
  },
  {
   "cell_type": "code",
   "execution_count": null,
   "metadata": {
    "collapsed": true
   },
   "outputs": [],
   "source": []
  }
 ],
 "metadata": {
  "kernelspec": {
   "display_name": "Python 3",
   "language": "python",
   "name": "python3"
  },
  "language_info": {
   "codemirror_mode": {
    "name": "ipython",
    "version": 3
   },
   "file_extension": ".py",
   "mimetype": "text/x-python",
   "name": "python",
   "nbconvert_exporter": "python",
   "pygments_lexer": "ipython3",
   "version": "3.5.1"
  }
 },
 "nbformat": 4,
 "nbformat_minor": 0
}
